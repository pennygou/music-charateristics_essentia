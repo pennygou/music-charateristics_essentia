{
 "cells": [
  {
   "cell_type": "markdown",
   "id": "still-designer",
   "metadata": {},
   "source": [
    "## 1.1 Genre_dortmund"
   ]
  },
  {
   "cell_type": "code",
   "execution_count": null,
   "id": "nearby-horizontal",
   "metadata": {},
   "outputs": [],
   "source": [
    "genre_dortmund=[]\n",
    "import numpy as np\n",
    "from essentia.standard import *\n",
    "import os\n",
    "import pandas as pd\n",
    "\n",
    "autofile = os.walk('audio test')\n",
    "\n",
    "for path ,dir_list, file_list in autofile:\n",
    "    for file_name in file_list:\n",
    "        print('Running autofile:',file_name)\n",
    "        current_file = os.path.join(path,file_name)\n",
    "        \n",
    "        sr = 16000\n",
    "        audio = MonoLoader(filename=current_file, sampleRate=sr)()\n",
    "        predictions_dortmund = TensorflowPredictVGGish(graphFilename='/root/Model/Transfer learning classifiers/Genre/genre_dortmund-vggish-audioset-1.pb')(audio)\n",
    "# Average predictions over the time axis\n",
    "        predictions_dortmund = np.mean(predictions_dortmund, axis=0)\n",
    "        genre_dortmund.append(np.append(file_name,predictions_dortmund))\n",
    "\n",
    "predic_genre_dortmund = pd.DataFrame(genre_dortmund,columns=['Song_name','genre_dortmund_alternative', 'genre_dortmund_blues','genre_dortmund_electronic','genre_dortmund_folkcountr','genre_dortmund_funksoulrnb','genre_dortmund_jazz','genre_dortmund_pop','genre_dortmund_raphiphop','genre_dortmund_rock'])\n",
    "predic_genre_dortmund.to_csv('predic_genre_dortmund.csv',index=True,header=True)"
   ]
  },
  {
   "cell_type": "markdown",
   "id": "established-fitting",
   "metadata": {},
   "source": [
    "## 1.2 Genre_electronic"
   ]
  },
  {
   "cell_type": "code",
   "execution_count": 2,
   "id": "chemical-product",
   "metadata": {},
   "outputs": [
    {
     "name": "stdout",
     "output_type": "stream",
     "text": [
      "Running autofile: deca joins - 卧室.mp3\n",
      "Running autofile: 丢火车乐队-孩子的脸.flac\n",
      "Running autofile: 丢火车乐队-瑞秋.flac\n",
      "Running autofile: deca joins - 散去的时候.mp3\n",
      "Running autofile: deca joins - 快乐.mp3\n",
      "Running autofile: 丢火车乐队-浮生.flac\n",
      "Running autofile: deca joins - 雾.mp3\n",
      "Running autofile: 丢火车乐队-帽儿山.flac\n",
      "Running autofile: 丢火车乐队-茶底世界.flac\n",
      "Running autofile: deca joins - 关渡口.mp3\n",
      "Running autofile: 丢火车乐队-哈喽 哈喽.flac\n",
      "Running autofile: deca joins - 春天游泳.mp3\n",
      "Running autofile: 丢火车乐队-定时清醒.flac\n",
      "Running autofile: deca joins - 午夜的消亡.mp3\n",
      "Running autofile: 丢火车乐队-凋谢之前.flac\n",
      "Running autofile: deca joins - Go Slow.mp3\n",
      "Running autofile: 丢火车乐队-火车日记.flac\n",
      "Running autofile: 丢火车乐队-白兰鸽巡游记.flac\n",
      "Running autofile: 丢火车乐队-卡尔加里路.flac\n",
      "Running autofile: 丢火车乐队-呼吸.flac\n",
      "Running autofile: deca joins - Somewhere.mp3\n",
      "Running autofile: deca joins - 海浪.mp3\n"
     ]
    }
   ],
   "source": [
    "genre_electronic=[]\n",
    "import numpy as np\n",
    "from essentia.standard import *\n",
    "import os\n",
    "import pandas as pd\n",
    "\n",
    "autofile = os.walk('audio test')\n",
    "\n",
    "for path ,dir_list, file_list in autofile:\n",
    "    for file_name in file_list:\n",
    "        print('Running autofile:',file_name)\n",
    "        current_file = os.path.join(path,file_name)\n",
    "        \n",
    "        sr = 16000\n",
    "        audio = MonoLoader(filename=current_file, sampleRate=sr)()\n",
    "        predictions_electronic = TensorflowPredictVGGish(graphFilename='/root/Model/Transfer learning classifiers/Genre/genre_electronic-vggish-audioset-1.pb')(audio)\n",
    "# Average predictions over the time axis\n",
    "        predictions_electronic = np.mean(predictions_electronic, axis=0)\n",
    "        genre_electronic.append(np.append(file_name,predictions_electronic))\n",
    "\n",
    "predic_genre_electronic = pd.DataFrame(genre_electronic,columns=['Song_name','genre_electronic_ambient', 'genre_electronic_dnb', 'genre_electronic_house', 'genre_electronic_techno', 'genre_electronic_trance'])\n",
    "predic_genre_electronic.to_csv('predic_genre_electronic.csv',index=True,header=True)"
   ]
  },
  {
   "cell_type": "markdown",
   "id": "crucial-burst",
   "metadata": {},
   "source": [
    "## 1.3 Genre_rosamerica"
   ]
  },
  {
   "cell_type": "code",
   "execution_count": 3,
   "id": "hired-breach",
   "metadata": {},
   "outputs": [
    {
     "name": "stdout",
     "output_type": "stream",
     "text": [
      "Running autofile: deca joins - 卧室.mp3\n",
      "Running autofile: 丢火车乐队-孩子的脸.flac\n",
      "Running autofile: 丢火车乐队-瑞秋.flac\n",
      "Running autofile: deca joins - 散去的时候.mp3\n",
      "Running autofile: deca joins - 快乐.mp3\n",
      "Running autofile: 丢火车乐队-浮生.flac\n",
      "Running autofile: deca joins - 雾.mp3\n",
      "Running autofile: 丢火车乐队-帽儿山.flac\n",
      "Running autofile: 丢火车乐队-茶底世界.flac\n",
      "Running autofile: deca joins - 关渡口.mp3\n",
      "Running autofile: 丢火车乐队-哈喽 哈喽.flac\n",
      "Running autofile: deca joins - 春天游泳.mp3\n",
      "Running autofile: 丢火车乐队-定时清醒.flac\n",
      "Running autofile: deca joins - 午夜的消亡.mp3\n",
      "Running autofile: 丢火车乐队-凋谢之前.flac\n",
      "Running autofile: deca joins - Go Slow.mp3\n",
      "Running autofile: 丢火车乐队-火车日记.flac\n",
      "Running autofile: 丢火车乐队-白兰鸽巡游记.flac\n",
      "Running autofile: 丢火车乐队-卡尔加里路.flac\n",
      "Running autofile: 丢火车乐队-呼吸.flac\n",
      "Running autofile: deca joins - Somewhere.mp3\n",
      "Running autofile: deca joins - 海浪.mp3\n"
     ]
    }
   ],
   "source": [
    "genre_rosamerica=[]\n",
    "import numpy as np\n",
    "from essentia.standard import *\n",
    "import os\n",
    "import pandas as pd\n",
    "\n",
    "autofile = os.walk('audio test')\n",
    "\n",
    "for path ,dir_list, file_list in autofile:\n",
    "    for file_name in file_list:\n",
    "        print('Running autofile:',file_name)\n",
    "        current_file = os.path.join(path,file_name)\n",
    "        \n",
    "        sr = 16000\n",
    "        audio = MonoLoader(filename=current_file, sampleRate=sr)()\n",
    "        predictions_rosamerica = TensorflowPredictVGGish(graphFilename='/root/Model/Transfer learning classifiers/Genre/genre_rosamerica-vggish-audioset-1.pb')(audio)\n",
    "# Average predictions over the time axis\n",
    "        predictions_rosamerica = np.mean(predictions_rosamerica, axis=0)\n",
    "        genre_rosamerica.append(np.append(file_name,predictions_rosamerica))\n",
    "\n",
    "predic_genre_rosamerica = pd.DataFrame(genre_rosamerica,columns=['Song_name','genre_rosamerica_cla', 'genre_rosamerica_dan', 'genre_rosamerica_hip', 'genre_rosamerica_jaz', 'genre_rosamerica_pop', 'genre_rosamerica_rhy', 'genre_rosamerica_roc', 'genre_rosamerica_spe'])\n",
    "predic_genre_rosamerica.to_csv('predic_genre_rosamerica.csv',index=True,header=True)"
   ]
  },
  {
   "cell_type": "markdown",
   "id": "sorted-decade",
   "metadata": {},
   "source": [
    "## 1.4 Genre_tzanetakis"
   ]
  },
  {
   "cell_type": "code",
   "execution_count": 4,
   "id": "applicable-popularity",
   "metadata": {},
   "outputs": [
    {
     "name": "stdout",
     "output_type": "stream",
     "text": [
      "Running autofile: deca joins - 卧室.mp3\n",
      "Running autofile: 丢火车乐队-孩子的脸.flac\n",
      "Running autofile: 丢火车乐队-瑞秋.flac\n",
      "Running autofile: deca joins - 散去的时候.mp3\n",
      "Running autofile: deca joins - 快乐.mp3\n",
      "Running autofile: 丢火车乐队-浮生.flac\n",
      "Running autofile: deca joins - 雾.mp3\n",
      "Running autofile: 丢火车乐队-帽儿山.flac\n",
      "Running autofile: 丢火车乐队-茶底世界.flac\n",
      "Running autofile: deca joins - 关渡口.mp3\n",
      "Running autofile: 丢火车乐队-哈喽 哈喽.flac\n",
      "Running autofile: deca joins - 春天游泳.mp3\n",
      "Running autofile: 丢火车乐队-定时清醒.flac\n",
      "Running autofile: deca joins - 午夜的消亡.mp3\n",
      "Running autofile: 丢火车乐队-凋谢之前.flac\n",
      "Running autofile: deca joins - Go Slow.mp3\n",
      "Running autofile: 丢火车乐队-火车日记.flac\n",
      "Running autofile: 丢火车乐队-白兰鸽巡游记.flac\n",
      "Running autofile: 丢火车乐队-卡尔加里路.flac\n",
      "Running autofile: 丢火车乐队-呼吸.flac\n",
      "Running autofile: deca joins - Somewhere.mp3\n",
      "Running autofile: deca joins - 海浪.mp3\n"
     ]
    }
   ],
   "source": [
    "genre_tzanetakis=[]\n",
    "import numpy as np\n",
    "from essentia.standard import *\n",
    "import os\n",
    "import pandas as pd\n",
    "\n",
    "autofile = os.walk('audio test')\n",
    "\n",
    "for path ,dir_list, file_list in autofile:\n",
    "    for file_name in file_list:\n",
    "        print('Running autofile:',file_name)\n",
    "        current_file = os.path.join(path,file_name)\n",
    "        \n",
    "        sr = 16000\n",
    "        audio = MonoLoader(filename=current_file, sampleRate=sr)()\n",
    "        predictions_tzanetakis = TensorflowPredictVGGish(graphFilename='/root/Model/Transfer learning classifiers/Genre/genre_tzanetakis-vggish-audioset-1.pb')(audio)\n",
    "# Average predictions over the time axis\n",
    "        predictions_tzanetakis = np.mean(predictions_tzanetakis, axis=0)\n",
    "        genre_tzanetakis.append(np.append(file_name,predictions_tzanetakis))\n",
    "\n",
    "predic_genre_tzanetakis = pd.DataFrame(genre_tzanetakis,columns=[\"Song_name\",\"genre_tzanetakis_blu\", \"genre_tzanetakis_cla\", \"genre_tzanetakis_cou\", \"genre_tzanetakis_dis\", \"genre_tzanetakis_hip\", \"genre_tzanetakis_jaz\", \"genre_tzanetakis_met\", \"genre_tzanetakis_pop\", \"genre_tzanetakis_reg\", \"genre_tzanetakis_roc\"])\n",
    "predic_genre_tzanetakis.to_csv('predic_genre_tzanetakis.csv',index=True,header=True)"
   ]
  },
  {
   "cell_type": "markdown",
   "id": "pleasant-effects",
   "metadata": {},
   "source": [
    "## 2.1 Mood_acoustic"
   ]
  },
  {
   "cell_type": "code",
   "execution_count": 5,
   "id": "handled-charger",
   "metadata": {},
   "outputs": [
    {
     "name": "stdout",
     "output_type": "stream",
     "text": [
      "Running autofile: deca joins - 卧室.mp3\n",
      "Running autofile: 丢火车乐队-孩子的脸.flac\n",
      "Running autofile: 丢火车乐队-瑞秋.flac\n",
      "Running autofile: deca joins - 散去的时候.mp3\n",
      "Running autofile: deca joins - 快乐.mp3\n",
      "Running autofile: 丢火车乐队-浮生.flac\n",
      "Running autofile: deca joins - 雾.mp3\n",
      "Running autofile: 丢火车乐队-帽儿山.flac\n",
      "Running autofile: 丢火车乐队-茶底世界.flac\n",
      "Running autofile: deca joins - 关渡口.mp3\n",
      "Running autofile: 丢火车乐队-哈喽 哈喽.flac\n",
      "Running autofile: deca joins - 春天游泳.mp3\n",
      "Running autofile: 丢火车乐队-定时清醒.flac\n",
      "Running autofile: deca joins - 午夜的消亡.mp3\n",
      "Running autofile: 丢火车乐队-凋谢之前.flac\n",
      "Running autofile: deca joins - Go Slow.mp3\n",
      "Running autofile: 丢火车乐队-火车日记.flac\n",
      "Running autofile: 丢火车乐队-白兰鸽巡游记.flac\n",
      "Running autofile: 丢火车乐队-卡尔加里路.flac\n",
      "Running autofile: 丢火车乐队-呼吸.flac\n",
      "Running autofile: deca joins - Somewhere.mp3\n",
      "Running autofile: deca joins - 海浪.mp3\n"
     ]
    }
   ],
   "source": [
    "mood_acoustic=[]\n",
    "import numpy as np\n",
    "from essentia.standard import *\n",
    "import os\n",
    "import pandas as pd\n",
    "\n",
    "autofile = os.walk('audio test')\n",
    "\n",
    "for path ,dir_list, file_list in autofile:\n",
    "    for file_name in file_list:\n",
    "        print('Running autofile:',file_name)\n",
    "        current_file = os.path.join(path,file_name)\n",
    "        \n",
    "        sr = 16000\n",
    "        audio = MonoLoader(filename=current_file, sampleRate=sr)()\n",
    "        predictions_acoustic = TensorflowPredictVGGish(graphFilename='/root/Model/Transfer learning classifiers/Mood/mood_acoustic-vggish-audioset-1.pb')(audio)\n",
    "# Average predictions over the time axis\n",
    "        predictions_acoustic = np.mean(predictions_acoustic, axis=0)\n",
    "        mood_acoustic.append(np.append(file_name,predictions_acoustic))\n",
    "\n",
    "predic_mood_acoustic = pd.DataFrame(mood_acoustic,columns=['Song_name','mood_acoustic_acoustic', 'mood_acoustic_non_acoustic'])\n",
    "predic_mood_acoustic.to_csv('predic_mood_acoustic.csv',index=True,header=True)"
   ]
  },
  {
   "cell_type": "markdown",
   "id": "played-console",
   "metadata": {},
   "source": [
    "## 2.2 Mood_aggressive"
   ]
  },
  {
   "cell_type": "code",
   "execution_count": 6,
   "id": "cultural-novelty",
   "metadata": {},
   "outputs": [
    {
     "name": "stdout",
     "output_type": "stream",
     "text": [
      "Running autofile: deca joins - 卧室.mp3\n",
      "Running autofile: 丢火车乐队-孩子的脸.flac\n",
      "Running autofile: 丢火车乐队-瑞秋.flac\n",
      "Running autofile: deca joins - 散去的时候.mp3\n",
      "Running autofile: deca joins - 快乐.mp3\n",
      "Running autofile: 丢火车乐队-浮生.flac\n",
      "Running autofile: deca joins - 雾.mp3\n",
      "Running autofile: 丢火车乐队-帽儿山.flac\n",
      "Running autofile: 丢火车乐队-茶底世界.flac\n",
      "Running autofile: deca joins - 关渡口.mp3\n",
      "Running autofile: 丢火车乐队-哈喽 哈喽.flac\n",
      "Running autofile: deca joins - 春天游泳.mp3\n",
      "Running autofile: 丢火车乐队-定时清醒.flac\n",
      "Running autofile: deca joins - 午夜的消亡.mp3\n",
      "Running autofile: 丢火车乐队-凋谢之前.flac\n",
      "Running autofile: deca joins - Go Slow.mp3\n",
      "Running autofile: 丢火车乐队-火车日记.flac\n",
      "Running autofile: 丢火车乐队-白兰鸽巡游记.flac\n",
      "Running autofile: 丢火车乐队-卡尔加里路.flac\n",
      "Running autofile: 丢火车乐队-呼吸.flac\n",
      "Running autofile: deca joins - Somewhere.mp3\n",
      "Running autofile: deca joins - 海浪.mp3\n"
     ]
    }
   ],
   "source": [
    "mood_aggressive=[]\n",
    "import numpy as np\n",
    "from essentia.standard import *\n",
    "import os\n",
    "import pandas as pd\n",
    "\n",
    "autofile = os.walk('audio test')\n",
    "\n",
    "for path ,dir_list, file_list in autofile:\n",
    "    for file_name in file_list:\n",
    "        print('Running autofile:',file_name)\n",
    "        current_file = os.path.join(path,file_name)\n",
    "        \n",
    "        sr = 16000\n",
    "        audio = MonoLoader(filename=current_file, sampleRate=sr)()\n",
    "        predictions_aggressive = TensorflowPredictVGGish(graphFilename='/root/Model/Transfer learning classifiers/Mood/mood_aggressive-vggish-audioset-1.pb')(audio)\n",
    "# Average predictions over the time axis\n",
    "        predictions_aggressive = np.mean(predictions_aggressive, axis=0)\n",
    "        mood_aggressive.append(np.append(file_name,predictions_aggressive))\n",
    "\n",
    "predic_mood_aggressive = pd.DataFrame(mood_aggressive,columns=['Song_name','mood_aggressive_aggressive', 'mood_aggressive_not_aggressive'])\n",
    "predic_mood_aggressive.to_csv('predic_mood_aggressive.csv',index=True,header=True)"
   ]
  },
  {
   "cell_type": "markdown",
   "id": "naked-station",
   "metadata": {},
   "source": [
    "## 2.3 Mood_electronic"
   ]
  },
  {
   "cell_type": "code",
   "execution_count": 7,
   "id": "funky-scholar",
   "metadata": {
    "scrolled": true
   },
   "outputs": [
    {
     "name": "stdout",
     "output_type": "stream",
     "text": [
      "Running autofile: deca joins - 卧室.mp3\n",
      "Running autofile: 丢火车乐队-孩子的脸.flac\n",
      "Running autofile: 丢火车乐队-瑞秋.flac\n",
      "Running autofile: deca joins - 散去的时候.mp3\n",
      "Running autofile: deca joins - 快乐.mp3\n",
      "Running autofile: 丢火车乐队-浮生.flac\n",
      "Running autofile: deca joins - 雾.mp3\n",
      "Running autofile: 丢火车乐队-帽儿山.flac\n",
      "Running autofile: 丢火车乐队-茶底世界.flac\n",
      "Running autofile: deca joins - 关渡口.mp3\n",
      "Running autofile: 丢火车乐队-哈喽 哈喽.flac\n",
      "Running autofile: deca joins - 春天游泳.mp3\n",
      "Running autofile: 丢火车乐队-定时清醒.flac\n",
      "Running autofile: deca joins - 午夜的消亡.mp3\n",
      "Running autofile: 丢火车乐队-凋谢之前.flac\n",
      "Running autofile: deca joins - Go Slow.mp3\n",
      "Running autofile: 丢火车乐队-火车日记.flac\n",
      "Running autofile: 丢火车乐队-白兰鸽巡游记.flac\n",
      "Running autofile: 丢火车乐队-卡尔加里路.flac\n",
      "Running autofile: 丢火车乐队-呼吸.flac\n",
      "Running autofile: deca joins - Somewhere.mp3\n",
      "Running autofile: deca joins - 海浪.mp3\n"
     ]
    }
   ],
   "source": [
    "mood_electronic=[]\n",
    "import numpy as np\n",
    "from essentia.standard import *\n",
    "import os\n",
    "import pandas as pd\n",
    "\n",
    "autofile = os.walk('audio test')\n",
    "\n",
    "for path ,dir_list, file_list in autofile:\n",
    "    for file_name in file_list:\n",
    "        print('Running autofile:',file_name)\n",
    "        current_file = os.path.join(path,file_name)\n",
    "        \n",
    "        sr = 16000\n",
    "        audio = MonoLoader(filename=current_file, sampleRate=sr)()\n",
    "        predictions_electronic = TensorflowPredictVGGish(graphFilename='/root/Model/Transfer learning classifiers/Mood/mood_electronic-vggish-audioset-1.pb')(audio)\n",
    "# Average predictions over the time axis\n",
    "        predictions_electronic = np.mean(predictions_electronic, axis=0)\n",
    "        mood_electronic.append(np.append(file_name,predictions_electronic))\n",
    "\n",
    "predic_mood_electronic = pd.DataFrame(mood_electronic,columns=['Song_name','mood_electronic_electronic', 'mood_electronic_non_electronic'])\n",
    "predic_mood_electronic.to_csv('predic_mood_electronic.csv',index=True,header=True)"
   ]
  },
  {
   "cell_type": "markdown",
   "id": "domestic-regression",
   "metadata": {},
   "source": [
    "## 2.4 Mood_happy"
   ]
  },
  {
   "cell_type": "code",
   "execution_count": 8,
   "id": "subjective-variety",
   "metadata": {
    "scrolled": true
   },
   "outputs": [
    {
     "name": "stdout",
     "output_type": "stream",
     "text": [
      "Running autofile: deca joins - 卧室.mp3\n",
      "Running autofile: 丢火车乐队-孩子的脸.flac\n",
      "Running autofile: 丢火车乐队-瑞秋.flac\n",
      "Running autofile: deca joins - 散去的时候.mp3\n",
      "Running autofile: deca joins - 快乐.mp3\n",
      "Running autofile: 丢火车乐队-浮生.flac\n",
      "Running autofile: deca joins - 雾.mp3\n",
      "Running autofile: 丢火车乐队-帽儿山.flac\n",
      "Running autofile: 丢火车乐队-茶底世界.flac\n",
      "Running autofile: deca joins - 关渡口.mp3\n",
      "Running autofile: 丢火车乐队-哈喽 哈喽.flac\n",
      "Running autofile: deca joins - 春天游泳.mp3\n",
      "Running autofile: 丢火车乐队-定时清醒.flac\n",
      "Running autofile: deca joins - 午夜的消亡.mp3\n",
      "Running autofile: 丢火车乐队-凋谢之前.flac\n",
      "Running autofile: deca joins - Go Slow.mp3\n",
      "Running autofile: 丢火车乐队-火车日记.flac\n",
      "Running autofile: 丢火车乐队-白兰鸽巡游记.flac\n",
      "Running autofile: 丢火车乐队-卡尔加里路.flac\n",
      "Running autofile: 丢火车乐队-呼吸.flac\n",
      "Running autofile: deca joins - Somewhere.mp3\n",
      "Running autofile: deca joins - 海浪.mp3\n"
     ]
    }
   ],
   "source": [
    "mood_happy=[]\n",
    "import numpy as np\n",
    "from essentia.standard import *\n",
    "import os\n",
    "import pandas as pd\n",
    "\n",
    "autofile = os.walk('audio test')\n",
    "\n",
    "for path ,dir_list, file_list in autofile:\n",
    "    for file_name in file_list:\n",
    "        print('Running autofile:',file_name)\n",
    "        current_file = os.path.join(path,file_name)\n",
    "        \n",
    "        sr = 16000\n",
    "        audio = MonoLoader(filename=current_file, sampleRate=sr)()\n",
    "        predictions_happy = TensorflowPredictVGGish(graphFilename='/root/Model/Transfer learning classifiers/Mood/mood_happy-vggish-audioset-1.pb')(audio)\n",
    "# Average predictions over the time axis\n",
    "        predictions_happy = np.mean(predictions_happy, axis=0)\n",
    "        mood_happy.append(np.append(file_name,predictions_happy))\n",
    "\n",
    "predic_mood_happy = pd.DataFrame(mood_happy,columns=['Song_name','mood_happy_happy', 'mood_happy_non_happy'])\n",
    "predic_mood_happy.to_csv('predic_mood_happy.csv',index=True,header=True)"
   ]
  },
  {
   "cell_type": "markdown",
   "id": "federal-arthur",
   "metadata": {},
   "source": [
    "## 2.5 Mood_party"
   ]
  },
  {
   "cell_type": "code",
   "execution_count": 9,
   "id": "established-sellers",
   "metadata": {},
   "outputs": [
    {
     "name": "stdout",
     "output_type": "stream",
     "text": [
      "Running autofile: deca joins - 卧室.mp3\n",
      "Running autofile: 丢火车乐队-孩子的脸.flac\n",
      "Running autofile: 丢火车乐队-瑞秋.flac\n",
      "Running autofile: deca joins - 散去的时候.mp3\n",
      "Running autofile: deca joins - 快乐.mp3\n",
      "Running autofile: 丢火车乐队-浮生.flac\n",
      "Running autofile: deca joins - 雾.mp3\n",
      "Running autofile: 丢火车乐队-帽儿山.flac\n",
      "Running autofile: 丢火车乐队-茶底世界.flac\n",
      "Running autofile: deca joins - 关渡口.mp3\n",
      "Running autofile: 丢火车乐队-哈喽 哈喽.flac\n",
      "Running autofile: deca joins - 春天游泳.mp3\n",
      "Running autofile: 丢火车乐队-定时清醒.flac\n",
      "Running autofile: deca joins - 午夜的消亡.mp3\n",
      "Running autofile: 丢火车乐队-凋谢之前.flac\n",
      "Running autofile: deca joins - Go Slow.mp3\n",
      "Running autofile: 丢火车乐队-火车日记.flac\n",
      "Running autofile: 丢火车乐队-白兰鸽巡游记.flac\n",
      "Running autofile: 丢火车乐队-卡尔加里路.flac\n",
      "Running autofile: 丢火车乐队-呼吸.flac\n",
      "Running autofile: deca joins - Somewhere.mp3\n",
      "Running autofile: deca joins - 海浪.mp3\n"
     ]
    }
   ],
   "source": [
    "mood_party=[]\n",
    "import numpy as np\n",
    "from essentia.standard import *\n",
    "import os\n",
    "import pandas as pd\n",
    "\n",
    "autofile = os.walk('audio test')\n",
    "\n",
    "for path ,dir_list, file_list in autofile:\n",
    "    for file_name in file_list:\n",
    "        print('Running autofile:',file_name)\n",
    "        current_file = os.path.join(path,file_name)\n",
    "        \n",
    "        sr = 16000\n",
    "        audio = MonoLoader(filename=current_file, sampleRate=sr)()\n",
    "        predictions_party = TensorflowPredictVGGish(graphFilename='/root/Model/Transfer learning classifiers/Mood/mood_party-vggish-audioset-1.pb')(audio)\n",
    "# Average predictions over the time axis\n",
    "        predictions_party = np.mean(predictions_party, axis=0)\n",
    "        mood_party.append(np.append(file_name,predictions_party))\n",
    "\n",
    "predic_mood_party = pd.DataFrame(mood_party,columns=['Song_name','mood_party_non_party', 'mood_party_party'])\n",
    "predic_mood_party.to_csv('predic_mood_party.csv',index=True,header=True)"
   ]
  },
  {
   "cell_type": "markdown",
   "id": "earned-southeast",
   "metadata": {},
   "source": [
    "## 2.6 Mood_relaxed"
   ]
  },
  {
   "cell_type": "code",
   "execution_count": 10,
   "id": "damaged-sydney",
   "metadata": {},
   "outputs": [
    {
     "name": "stdout",
     "output_type": "stream",
     "text": [
      "Running autofile: deca joins - 卧室.mp3\n",
      "Running autofile: 丢火车乐队-孩子的脸.flac\n",
      "Running autofile: 丢火车乐队-瑞秋.flac\n",
      "Running autofile: deca joins - 散去的时候.mp3\n",
      "Running autofile: deca joins - 快乐.mp3\n",
      "Running autofile: 丢火车乐队-浮生.flac\n",
      "Running autofile: deca joins - 雾.mp3\n",
      "Running autofile: 丢火车乐队-帽儿山.flac\n",
      "Running autofile: 丢火车乐队-茶底世界.flac\n",
      "Running autofile: deca joins - 关渡口.mp3\n",
      "Running autofile: 丢火车乐队-哈喽 哈喽.flac\n",
      "Running autofile: deca joins - 春天游泳.mp3\n",
      "Running autofile: 丢火车乐队-定时清醒.flac\n",
      "Running autofile: deca joins - 午夜的消亡.mp3\n",
      "Running autofile: 丢火车乐队-凋谢之前.flac\n",
      "Running autofile: deca joins - Go Slow.mp3\n",
      "Running autofile: 丢火车乐队-火车日记.flac\n",
      "Running autofile: 丢火车乐队-白兰鸽巡游记.flac\n",
      "Running autofile: 丢火车乐队-卡尔加里路.flac\n",
      "Running autofile: 丢火车乐队-呼吸.flac\n",
      "Running autofile: deca joins - Somewhere.mp3\n",
      "Running autofile: deca joins - 海浪.mp3\n"
     ]
    }
   ],
   "source": [
    "mood_relaxed=[]\n",
    "import numpy as np\n",
    "from essentia.standard import *\n",
    "import os\n",
    "import pandas as pd\n",
    "\n",
    "autofile = os.walk('audio test')\n",
    "\n",
    "for path ,dir_list, file_list in autofile:\n",
    "    for file_name in file_list:\n",
    "        print('Running autofile:',file_name)\n",
    "        current_file = os.path.join(path,file_name)\n",
    "        \n",
    "        sr = 16000\n",
    "        audio = MonoLoader(filename=current_file, sampleRate=sr)()\n",
    "        predictions_relaxed = TensorflowPredictVGGish(graphFilename='/root/Model/Transfer learning classifiers/Mood/mood_relaxed-vggish-audioset-1.pb')(audio)\n",
    "# Average predictions over the time axis\n",
    "        predictions_relaxed = np.mean(predictions_relaxed, axis=0)\n",
    "        mood_relaxed.append(np.append(file_name,predictions_relaxed))\n",
    "\n",
    "predic_mood_relaxed = pd.DataFrame(mood_relaxed,columns=['Song_name','mood_relaxed_non_relaxed', 'mood_relaxed_relaxed'])\n",
    "predic_mood_relaxed.to_csv('predic_mood_relaxed.csv',index=True,header=True)"
   ]
  },
  {
   "cell_type": "markdown",
   "id": "pediatric-secretariat",
   "metadata": {},
   "source": [
    "## 2.7 Mood_sad"
   ]
  },
  {
   "cell_type": "code",
   "execution_count": 11,
   "id": "double-swimming",
   "metadata": {},
   "outputs": [
    {
     "name": "stdout",
     "output_type": "stream",
     "text": [
      "Running autofile: deca joins - 卧室.mp3\n",
      "Running autofile: 丢火车乐队-孩子的脸.flac\n",
      "Running autofile: 丢火车乐队-瑞秋.flac\n",
      "Running autofile: deca joins - 散去的时候.mp3\n",
      "Running autofile: deca joins - 快乐.mp3\n",
      "Running autofile: 丢火车乐队-浮生.flac\n",
      "Running autofile: deca joins - 雾.mp3\n",
      "Running autofile: 丢火车乐队-帽儿山.flac\n",
      "Running autofile: 丢火车乐队-茶底世界.flac\n",
      "Running autofile: deca joins - 关渡口.mp3\n",
      "Running autofile: 丢火车乐队-哈喽 哈喽.flac\n",
      "Running autofile: deca joins - 春天游泳.mp3\n",
      "Running autofile: 丢火车乐队-定时清醒.flac\n",
      "Running autofile: deca joins - 午夜的消亡.mp3\n",
      "Running autofile: 丢火车乐队-凋谢之前.flac\n",
      "Running autofile: deca joins - Go Slow.mp3\n",
      "Running autofile: 丢火车乐队-火车日记.flac\n",
      "Running autofile: 丢火车乐队-白兰鸽巡游记.flac\n",
      "Running autofile: 丢火车乐队-卡尔加里路.flac\n",
      "Running autofile: 丢火车乐队-呼吸.flac\n",
      "Running autofile: deca joins - Somewhere.mp3\n",
      "Running autofile: deca joins - 海浪.mp3\n"
     ]
    }
   ],
   "source": [
    "mood_sad=[]\n",
    "import numpy as np\n",
    "from essentia.standard import *\n",
    "import os\n",
    "import pandas as pd\n",
    "\n",
    "autofile = os.walk('audio test')\n",
    "\n",
    "for path ,dir_list, file_list in autofile:\n",
    "    for file_name in file_list:\n",
    "        print('Running autofile:',file_name)\n",
    "        current_file = os.path.join(path,file_name)\n",
    "        \n",
    "        sr = 16000\n",
    "        audio = MonoLoader(filename=current_file, sampleRate=sr)()\n",
    "        predictions_sad = TensorflowPredictVGGish(graphFilename='/root/Model/Transfer learning classifiers/Mood/mood_sad-vggish-audioset-1.pb')(audio)\n",
    "# Average predictions over the time axis\n",
    "        predictions_sad = np.mean(predictions_sad, axis=0)\n",
    "        mood_sad.append(np.append(file_name,predictions_sad))\n",
    "\n",
    "predic_mood_sad = pd.DataFrame(mood_sad,columns=['Song_name','mood_sad_non_sad', 'mood_sad_sad'])\n",
    "predic_mood_sad.to_csv('predic_mood_sad.csv',index=True,header=True)"
   ]
  },
  {
   "cell_type": "markdown",
   "id": "decimal-pierre",
   "metadata": {},
   "source": [
    "## 3.1 Miscellaneous_danceability"
   ]
  },
  {
   "cell_type": "code",
   "execution_count": 12,
   "id": "changing-consequence",
   "metadata": {},
   "outputs": [
    {
     "name": "stdout",
     "output_type": "stream",
     "text": [
      "Running autofile: deca joins - 卧室.mp3\n",
      "Running autofile: 丢火车乐队-孩子的脸.flac\n",
      "Running autofile: 丢火车乐队-瑞秋.flac\n",
      "Running autofile: deca joins - 散去的时候.mp3\n",
      "Running autofile: deca joins - 快乐.mp3\n",
      "Running autofile: 丢火车乐队-浮生.flac\n",
      "Running autofile: deca joins - 雾.mp3\n",
      "Running autofile: 丢火车乐队-帽儿山.flac\n",
      "Running autofile: 丢火车乐队-茶底世界.flac\n",
      "Running autofile: deca joins - 关渡口.mp3\n",
      "Running autofile: 丢火车乐队-哈喽 哈喽.flac\n",
      "Running autofile: deca joins - 春天游泳.mp3\n",
      "Running autofile: 丢火车乐队-定时清醒.flac\n",
      "Running autofile: deca joins - 午夜的消亡.mp3\n",
      "Running autofile: 丢火车乐队-凋谢之前.flac\n",
      "Running autofile: deca joins - Go Slow.mp3\n",
      "Running autofile: 丢火车乐队-火车日记.flac\n",
      "Running autofile: 丢火车乐队-白兰鸽巡游记.flac\n",
      "Running autofile: 丢火车乐队-卡尔加里路.flac\n",
      "Running autofile: 丢火车乐队-呼吸.flac\n",
      "Running autofile: deca joins - Somewhere.mp3\n",
      "Running autofile: deca joins - 海浪.mp3\n"
     ]
    }
   ],
   "source": [
    "miscellaneous_danceability=[]\n",
    "import numpy as np\n",
    "from essentia.standard import *\n",
    "import os\n",
    "import pandas as pd\n",
    "\n",
    "autofile = os.walk('audio test')\n",
    "\n",
    "for path ,dir_list, file_list in autofile:\n",
    "    for file_name in file_list:\n",
    "        print('Running autofile:',file_name)\n",
    "        current_file = os.path.join(path,file_name)\n",
    "        \n",
    "        sr = 16000\n",
    "        audio = MonoLoader(filename=current_file, sampleRate=sr)()\n",
    "        predictions_danceability = TensorflowPredictVGGish(graphFilename='/root/Model/Transfer learning classifiers/Miscellaneous/danceability-vggish-audioset-1.pb')(audio)\n",
    "# Average predictions over the time axis\n",
    "        predictions_danceability = np.mean(predictions_danceability, axis=0)\n",
    "        miscellaneous_danceability.append(np.append(file_name,predictions_danceability))\n",
    "\n",
    "predic_miscellaneous_danceability = pd.DataFrame(miscellaneous_danceability,columns=['Song_name','miscellaneous_danceability_danceable', 'miscellaneous_danceability_not_danceable'])\n",
    "predic_miscellaneous_danceability.to_csv('predic_miscellaneous_danceability.csv',index=True,header=True)"
   ]
  },
  {
   "cell_type": "markdown",
   "id": "legislative-entertainment",
   "metadata": {},
   "source": [
    "## 3.2 Miscellaneous_gender"
   ]
  },
  {
   "cell_type": "code",
   "execution_count": 13,
   "id": "desirable-struggle",
   "metadata": {},
   "outputs": [
    {
     "name": "stdout",
     "output_type": "stream",
     "text": [
      "Running autofile: deca joins - 卧室.mp3\n",
      "Running autofile: 丢火车乐队-孩子的脸.flac\n",
      "Running autofile: 丢火车乐队-瑞秋.flac\n",
      "Running autofile: deca joins - 散去的时候.mp3\n",
      "Running autofile: deca joins - 快乐.mp3\n",
      "Running autofile: 丢火车乐队-浮生.flac\n",
      "Running autofile: deca joins - 雾.mp3\n",
      "Running autofile: 丢火车乐队-帽儿山.flac\n",
      "Running autofile: 丢火车乐队-茶底世界.flac\n",
      "Running autofile: deca joins - 关渡口.mp3\n",
      "Running autofile: 丢火车乐队-哈喽 哈喽.flac\n",
      "Running autofile: deca joins - 春天游泳.mp3\n",
      "Running autofile: 丢火车乐队-定时清醒.flac\n",
      "Running autofile: deca joins - 午夜的消亡.mp3\n",
      "Running autofile: 丢火车乐队-凋谢之前.flac\n",
      "Running autofile: deca joins - Go Slow.mp3\n",
      "Running autofile: 丢火车乐队-火车日记.flac\n",
      "Running autofile: 丢火车乐队-白兰鸽巡游记.flac\n",
      "Running autofile: 丢火车乐队-卡尔加里路.flac\n",
      "Running autofile: 丢火车乐队-呼吸.flac\n",
      "Running autofile: deca joins - Somewhere.mp3\n",
      "Running autofile: deca joins - 海浪.mp3\n"
     ]
    }
   ],
   "source": [
    "miscellaneous_gender=[]\n",
    "import numpy as np\n",
    "from essentia.standard import *\n",
    "import os\n",
    "import pandas as pd\n",
    "\n",
    "autofile = os.walk('audio test')\n",
    "\n",
    "for path ,dir_list, file_list in autofile:\n",
    "    for file_name in file_list:\n",
    "        print('Running autofile:',file_name)\n",
    "        current_file = os.path.join(path,file_name)\n",
    "        \n",
    "        sr = 16000\n",
    "        audio = MonoLoader(filename=current_file, sampleRate=sr)()\n",
    "        predictions_gender = TensorflowPredictVGGish(graphFilename='/root/Model/Transfer learning classifiers/Miscellaneous/gender-vggish-audioset-1.pb')(audio)\n",
    "# Average predictions over the time axis\n",
    "        predictions_gender = np.mean(predictions_gender, axis=0)\n",
    "        miscellaneous_gender.append(np.append(file_name,predictions_gender))\n",
    "\n",
    "\n",
    "predic_miscellaneous_gender = pd.DataFrame(miscellaneous_gender,columns=['Song_name','miscellaneous_gender_female', 'miscellaneous_gender_male'])\n",
    "predic_miscellaneous_gender.to_csv('predic_miscellaneous_gender.csv',index=True,header=True)"
   ]
  },
  {
   "cell_type": "markdown",
   "id": "junior-collector",
   "metadata": {},
   "source": [
    "## 3.3 Miscellaneous_tonal/atonal"
   ]
  },
  {
   "cell_type": "code",
   "execution_count": 14,
   "id": "executive-attendance",
   "metadata": {},
   "outputs": [
    {
     "name": "stdout",
     "output_type": "stream",
     "text": [
      "Running autofile: deca joins - 卧室.mp3\n",
      "Running autofile: 丢火车乐队-孩子的脸.flac\n",
      "Running autofile: 丢火车乐队-瑞秋.flac\n",
      "Running autofile: deca joins - 散去的时候.mp3\n",
      "Running autofile: deca joins - 快乐.mp3\n",
      "Running autofile: 丢火车乐队-浮生.flac\n",
      "Running autofile: deca joins - 雾.mp3\n",
      "Running autofile: 丢火车乐队-帽儿山.flac\n",
      "Running autofile: 丢火车乐队-茶底世界.flac\n",
      "Running autofile: deca joins - 关渡口.mp3\n",
      "Running autofile: 丢火车乐队-哈喽 哈喽.flac\n",
      "Running autofile: deca joins - 春天游泳.mp3\n",
      "Running autofile: 丢火车乐队-定时清醒.flac\n",
      "Running autofile: deca joins - 午夜的消亡.mp3\n",
      "Running autofile: 丢火车乐队-凋谢之前.flac\n",
      "Running autofile: deca joins - Go Slow.mp3\n",
      "Running autofile: 丢火车乐队-火车日记.flac\n",
      "Running autofile: 丢火车乐队-白兰鸽巡游记.flac\n",
      "Running autofile: 丢火车乐队-卡尔加里路.flac\n",
      "Running autofile: 丢火车乐队-呼吸.flac\n",
      "Running autofile: deca joins - Somewhere.mp3\n",
      "Running autofile: deca joins - 海浪.mp3\n"
     ]
    }
   ],
   "source": [
    "miscellaneous_tonal_atonal=[]\n",
    "import numpy as np\n",
    "from essentia.standard import *\n",
    "import os\n",
    "import pandas as pd\n",
    "\n",
    "autofile = os.walk('audio test')\n",
    "\n",
    "for path ,dir_list, file_list in autofile:\n",
    "    for file_name in file_list:\n",
    "        print('Running autofile:',file_name)\n",
    "        current_file = os.path.join(path,file_name)\n",
    "        \n",
    "        sr = 16000\n",
    "        audio = MonoLoader(filename=current_file, sampleRate=sr)()\n",
    "        predictions_tonal_atonal = TensorflowPredictVGGish(graphFilename='/root/Model/Transfer learning classifiers/Miscellaneous/tonal_atonal-vggish-audioset-1.pb')(audio)\n",
    "# Average predictions over the time axis\n",
    "        predictions_tonal_atonal = np.mean(predictions_tonal_atonal, axis=0)\n",
    "        miscellaneous_tonal_atonal.append(np.append(file_name,predictions_tonal_atonal))\n",
    "\n",
    "predic_miscellaneous_tonal_atonal = pd.DataFrame(miscellaneous_tonal_atonal,columns=['Song_name','miscellaneous_tonal_atonal_tonal', 'miscellaneous_tonal_atonal_atonal'])\n",
    "predic_miscellaneous_tonal_atonal.to_csv('predic_miscellaneous_tonal_atonal.csv',index=True,header=True)"
   ]
  },
  {
   "cell_type": "markdown",
   "id": "electrical-dietary",
   "metadata": {},
   "source": [
    "## 3.4 Miscellaneous_voice/instrumental"
   ]
  },
  {
   "cell_type": "code",
   "execution_count": 15,
   "id": "subsequent-college",
   "metadata": {},
   "outputs": [
    {
     "name": "stdout",
     "output_type": "stream",
     "text": [
      "Running autofile: deca joins - 卧室.mp3\n",
      "Running autofile: 丢火车乐队-孩子的脸.flac\n",
      "Running autofile: 丢火车乐队-瑞秋.flac\n",
      "Running autofile: deca joins - 散去的时候.mp3\n",
      "Running autofile: deca joins - 快乐.mp3\n",
      "Running autofile: 丢火车乐队-浮生.flac\n",
      "Running autofile: deca joins - 雾.mp3\n",
      "Running autofile: 丢火车乐队-帽儿山.flac\n",
      "Running autofile: 丢火车乐队-茶底世界.flac\n",
      "Running autofile: deca joins - 关渡口.mp3\n",
      "Running autofile: 丢火车乐队-哈喽 哈喽.flac\n",
      "Running autofile: deca joins - 春天游泳.mp3\n",
      "Running autofile: 丢火车乐队-定时清醒.flac\n",
      "Running autofile: deca joins - 午夜的消亡.mp3\n",
      "Running autofile: 丢火车乐队-凋谢之前.flac\n",
      "Running autofile: deca joins - Go Slow.mp3\n",
      "Running autofile: 丢火车乐队-火车日记.flac\n",
      "Running autofile: 丢火车乐队-白兰鸽巡游记.flac\n",
      "Running autofile: 丢火车乐队-卡尔加里路.flac\n",
      "Running autofile: 丢火车乐队-呼吸.flac\n",
      "Running autofile: deca joins - Somewhere.mp3\n",
      "Running autofile: deca joins - 海浪.mp3\n"
     ]
    }
   ],
   "source": [
    "miscellaneous_voice_instrumental=[]\n",
    "import numpy as np\n",
    "from essentia.standard import *\n",
    "import os\n",
    "import pandas as pd\n",
    "\n",
    "autofile = os.walk('audio test')\n",
    "\n",
    "for path ,dir_list, file_list in autofile:\n",
    "    for file_name in file_list:\n",
    "        print('Running autofile:',file_name)\n",
    "        current_file = os.path.join(path,file_name)\n",
    "        \n",
    "        sr = 16000\n",
    "        audio = MonoLoader(filename=current_file, sampleRate=sr)()\n",
    "        predictions_voice_instrumental = TensorflowPredictVGGish(graphFilename='/root/Model/Transfer learning classifiers/Miscellaneous/voice_instrumental-vggish-audioset-1.pb')(audio)\n",
    "# Average predictions over the time axis\n",
    "        predictions_voice_instrumental = np.mean(predictions_voice_instrumental, axis=0)\n",
    "        miscellaneous_voice_instrumental.append(np.append(file_name,predictions_voice_instrumental))\n",
    "\n",
    "predic_miscellaneous_voice_instrumental = pd.DataFrame(miscellaneous_voice_instrumental,columns=['Song_name','miscellaneous_voice_instrumental_instrumental', 'miscellaneous_voice_instrumental_voice'])\n",
    "predic_miscellaneous_voice_instrumental.to_csv('predic_miscellaneous_voice_instrumental.csv',index=True,header=True)"
   ]
  },
  {
   "cell_type": "code",
   "execution_count": null,
   "id": "welsh-corrections",
   "metadata": {},
   "outputs": [],
   "source": []
  }
 ],
 "metadata": {
  "kernelspec": {
   "display_name": "Python 3",
   "language": "python",
   "name": "python3"
  },
  "language_info": {
   "codemirror_mode": {
    "name": "ipython",
    "version": 3
   },
   "file_extension": ".py",
   "mimetype": "text/x-python",
   "name": "python",
   "nbconvert_exporter": "python",
   "pygments_lexer": "ipython3",
   "version": "3.7.3"
  }
 },
 "nbformat": 4,
 "nbformat_minor": 5
}
